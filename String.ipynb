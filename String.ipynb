{
 "cells": [
  {
   "cell_type": "code",
   "execution_count": 1,
   "id": "288d890a",
   "metadata": {},
   "outputs": [
    {
     "name": "stdout",
     "output_type": "stream",
     "text": [
      "a\n"
     ]
    }
   ],
   "source": [
    "print(\"a\")"
   ]
  },
  {
   "cell_type": "code",
   "execution_count": 2,
   "id": "d776b199",
   "metadata": {},
   "outputs": [
    {
     "data": {
      "text/plain": [
       "'s'"
      ]
     },
     "execution_count": 2,
     "metadata": {},
     "output_type": "execute_result"
    }
   ],
   "source": [
    "'s'"
   ]
  },
  {
   "cell_type": "code",
   "execution_count": 3,
   "id": "530b8978",
   "metadata": {},
   "outputs": [
    {
     "data": {
      "text/plain": [
       "str"
      ]
     },
     "execution_count": 3,
     "metadata": {},
     "output_type": "execute_result"
    }
   ],
   "source": [
    "type('s')"
   ]
  },
  {
   "cell_type": "code",
   "execution_count": 4,
   "id": "6ae418e3",
   "metadata": {},
   "outputs": [
    {
     "data": {
      "text/plain": [
       "'good morning'"
      ]
     },
     "execution_count": 4,
     "metadata": {},
     "output_type": "execute_result"
    }
   ],
   "source": [
    "'good morning'"
   ]
  },
  {
   "cell_type": "code",
   "execution_count": 5,
   "id": "ed80a31f",
   "metadata": {},
   "outputs": [
    {
     "data": {
      "text/plain": [
       "12"
      ]
     },
     "execution_count": 5,
     "metadata": {},
     "output_type": "execute_result"
    }
   ],
   "source": [
    "len('good morning')"
   ]
  },
  {
   "cell_type": "code",
   "execution_count": 6,
   "id": "db4b64ec",
   "metadata": {},
   "outputs": [],
   "source": [
    "My_String=\"Hello Good Morning\""
   ]
  },
  {
   "cell_type": "code",
   "execution_count": 7,
   "id": "5ee39be7",
   "metadata": {},
   "outputs": [
    {
     "data": {
      "text/plain": [
       "18"
      ]
     },
     "execution_count": 7,
     "metadata": {},
     "output_type": "execute_result"
    }
   ],
   "source": [
    "len(My_String)"
   ]
  },
  {
   "cell_type": "code",
   "execution_count": 8,
   "id": "b4176dc9",
   "metadata": {},
   "outputs": [
    {
     "name": "stdout",
     "output_type": "stream",
     "text": [
      "l\n"
     ]
    }
   ],
   "source": [
    "print(My_String[2])"
   ]
  },
  {
   "cell_type": "code",
   "execution_count": 9,
   "id": "8c1f01d2",
   "metadata": {},
   "outputs": [
    {
     "data": {
      "text/plain": [
       "'G'"
      ]
     },
     "execution_count": 9,
     "metadata": {},
     "output_type": "execute_result"
    }
   ],
   "source": [
    "My_String[6]"
   ]
  },
  {
   "cell_type": "code",
   "execution_count": 10,
   "id": "39df4f30",
   "metadata": {},
   "outputs": [
    {
     "data": {
      "text/plain": [
       "'g'"
      ]
     },
     "execution_count": 10,
     "metadata": {},
     "output_type": "execute_result"
    }
   ],
   "source": [
    "#to know the last letter of the word/sentence\n",
    "My_String[-1]"
   ]
  },
  {
   "cell_type": "code",
   "execution_count": 11,
   "id": "d243c992",
   "metadata": {},
   "outputs": [
    {
     "data": {
      "text/plain": [
       "'n'"
      ]
     },
     "execution_count": 11,
     "metadata": {},
     "output_type": "execute_result"
    }
   ],
   "source": [
    "My_String[-2]"
   ]
  },
  {
   "cell_type": "code",
   "execution_count": 12,
   "id": "56ba6ac4",
   "metadata": {},
   "outputs": [
    {
     "data": {
      "text/plain": [
       "'i'"
      ]
     },
     "execution_count": 12,
     "metadata": {},
     "output_type": "execute_result"
    }
   ],
   "source": [
    "My_String[-3]"
   ]
  },
  {
   "cell_type": "code",
   "execution_count": 13,
   "id": "a376fb00",
   "metadata": {},
   "outputs": [
    {
     "name": "stdout",
     "output_type": "stream",
     "text": [
      "True\n"
     ]
    }
   ],
   "source": [
    "#Check String\n",
    "txt = \"The best things in life are free!\"\n",
    "print(\"free\" in txt)"
   ]
  },
  {
   "cell_type": "markdown",
   "id": "c18d033f",
   "metadata": {},
   "source": [
    "# Slicing\n",
    "You can return a range of characters by using the slice syntax.\n",
    "\n",
    "Specify the start index and the end index, separated by a colon, to return a part of the string.\n",
    "\n",
    "example [start inder :End index:Step size]"
   ]
  },
  {
   "cell_type": "code",
   "execution_count": 14,
   "id": "03fe22d4",
   "metadata": {},
   "outputs": [],
   "source": [
    "txt=\"Hello Good Morning\""
   ]
  },
  {
   "cell_type": "code",
   "execution_count": 15,
   "id": "5e19beb4",
   "metadata": {},
   "outputs": [
    {
     "data": {
      "text/plain": [
       "'Hello Good Morning'"
      ]
     },
     "execution_count": 15,
     "metadata": {},
     "output_type": "execute_result"
    }
   ],
   "source": [
    "txt"
   ]
  },
  {
   "cell_type": "code",
   "execution_count": 16,
   "id": "5a0313c7",
   "metadata": {},
   "outputs": [
    {
     "data": {
      "text/plain": [
       "'Hello Good Morning'"
      ]
     },
     "execution_count": 16,
     "metadata": {},
     "output_type": "execute_result"
    }
   ],
   "source": [
    "txt[::]"
   ]
  },
  {
   "cell_type": "code",
   "execution_count": 18,
   "id": "a5889cb7",
   "metadata": {},
   "outputs": [
    {
     "data": {
      "text/plain": [
       "'Hello'"
      ]
     },
     "execution_count": 18,
     "metadata": {},
     "output_type": "execute_result"
    }
   ],
   "source": [
    "# slice only 'Hello'\n",
    "txt[:5]"
   ]
  },
  {
   "cell_type": "code",
   "execution_count": 20,
   "id": "9dcac170",
   "metadata": {},
   "outputs": [
    {
     "data": {
      "text/plain": [
       "'Good'"
      ]
     },
     "execution_count": 20,
     "metadata": {},
     "output_type": "execute_result"
    }
   ],
   "source": [
    "# slice only 'Good'\n",
    "txt[6:10]"
   ]
  },
  {
   "cell_type": "code",
   "execution_count": 21,
   "id": "8f7ee40e",
   "metadata": {},
   "outputs": [
    {
     "data": {
      "text/plain": [
       "'Good Morning'"
      ]
     },
     "execution_count": 21,
     "metadata": {},
     "output_type": "execute_result"
    }
   ],
   "source": [
    "# Remove 'Good' and print rest of the text\n",
    "txt[6:]"
   ]
  },
  {
   "cell_type": "code",
   "execution_count": 25,
   "id": "92a6145c",
   "metadata": {},
   "outputs": [
    {
     "data": {
      "text/plain": [
       "'gninroM dooG olleH'"
      ]
     },
     "execution_count": 25,
     "metadata": {},
     "output_type": "execute_result"
    }
   ],
   "source": [
    "#Writing stirng in reverse\n",
    "txt[::-1]"
   ]
  },
  {
   "cell_type": "code",
   "execution_count": 26,
   "id": "47ddaa51",
   "metadata": {},
   "outputs": [
    {
     "data": {
      "text/plain": [
       "'HloGo onn'"
      ]
     },
     "execution_count": 26,
     "metadata": {},
     "output_type": "execute_result"
    }
   ],
   "source": [
    "#Printing the string with step size 2 of \"Hello Good Morning\"\n",
    "txt[::2]"
   ]
  },
  {
   "cell_type": "code",
   "execution_count": 27,
   "id": "8983aac7",
   "metadata": {},
   "outputs": [
    {
     "data": {
      "text/plain": [
       "'HlGdoi'"
      ]
     },
     "execution_count": 27,
     "metadata": {},
     "output_type": "execute_result"
    }
   ],
   "source": [
    "#Printing the string with step size 3 of \"Hello Good Morning\"\n",
    "txt[::3]"
   ]
  },
  {
   "cell_type": "markdown",
   "id": "1ba737fe",
   "metadata": {},
   "source": [
    "# Python - Modify Strings"
   ]
  },
  {
   "cell_type": "code",
   "execution_count": 28,
   "id": "c83512ac",
   "metadata": {},
   "outputs": [
    {
     "name": "stdout",
     "output_type": "stream",
     "text": [
      "HELLO, WORLD!\n"
     ]
    }
   ],
   "source": [
    "#The upper() method returns the string in upper case:\n",
    "\n",
    "a = \"Hello, World!\"\n",
    "print(a.upper())"
   ]
  },
  {
   "cell_type": "code",
   "execution_count": 29,
   "id": "9b770f6c",
   "metadata": {},
   "outputs": [
    {
     "name": "stdout",
     "output_type": "stream",
     "text": [
      "hello, world!\n"
     ]
    }
   ],
   "source": [
    "#The lower() method returns the string in lower case:\n",
    "\n",
    "a = \"Hello, World!\"\n",
    "print(a.lower())"
   ]
  },
  {
   "cell_type": "code",
   "execution_count": 30,
   "id": "b78d446e",
   "metadata": {},
   "outputs": [
    {
     "name": "stdout",
     "output_type": "stream",
     "text": [
      "Hello, World!\n"
     ]
    }
   ],
   "source": [
    "#The strip() method removes any whitespace from the beginning or the end:\n",
    "\n",
    "a = \" Hello, World! \"\n",
    "print(a.strip())"
   ]
  },
  {
   "cell_type": "code",
   "execution_count": 32,
   "id": "3d14afa6",
   "metadata": {},
   "outputs": [
    {
     "name": "stdout",
     "output_type": "stream",
     "text": [
      "Good Evening\n"
     ]
    }
   ],
   "source": [
    "#The replace() method replaces a string with another string:\n",
    "\n",
    "a = \"Good Morning\"\n",
    "print(a.replace(\"Morning\", \"Evening\"))"
   ]
  },
  {
   "cell_type": "code",
   "execution_count": 33,
   "id": "50a625b6",
   "metadata": {},
   "outputs": [
    {
     "name": "stdout",
     "output_type": "stream",
     "text": [
      "['Good Morning']\n"
     ]
    }
   ],
   "source": [
    "#The split() method splits the string into substrings if it finds instances of the separator:\n",
    "\n",
    "a = \"Good Morning\"\n",
    "print(a.split(\",\"))"
   ]
  },
  {
   "cell_type": "markdown",
   "id": "6cf3670e",
   "metadata": {},
   "source": [
    "# String Concatenation"
   ]
  },
  {
   "cell_type": "code",
   "execution_count": 34,
   "id": "986fb6c9",
   "metadata": {},
   "outputs": [
    {
     "name": "stdout",
     "output_type": "stream",
     "text": [
      "HelloWorld\n"
     ]
    }
   ],
   "source": [
    "#Merge variable a with variable b into variable c:\n",
    "\n",
    "a = \"Hello\"\n",
    "b = \"World\"\n",
    "c = a + b\n",
    "print(c)"
   ]
  },
  {
   "cell_type": "code",
   "execution_count": 35,
   "id": "45e3800e",
   "metadata": {},
   "outputs": [
    {
     "name": "stdout",
     "output_type": "stream",
     "text": [
      "Hello World\n"
     ]
    }
   ],
   "source": [
    "#To add a space between them, add a \" \":\n",
    "\n",
    "a = \"Hello\"\n",
    "b = \"World\"\n",
    "c = a + \" \" + b\n",
    "print(c)"
   ]
  },
  {
   "cell_type": "code",
   "execution_count": 39,
   "id": "bf7f0a59",
   "metadata": {},
   "outputs": [],
   "source": [
    "d= a + \" Good Morning\""
   ]
  },
  {
   "cell_type": "code",
   "execution_count": 42,
   "id": "5dfbd7c5",
   "metadata": {},
   "outputs": [
    {
     "name": "stdout",
     "output_type": "stream",
     "text": [
      "Good Evening\n"
     ]
    }
   ],
   "source": [
    "exam= d[6:10] +\" \" +'Evening'\n",
    "print(exam)"
   ]
  },
  {
   "cell_type": "code",
   "execution_count": 47,
   "id": "765d103a",
   "metadata": {},
   "outputs": [
    {
     "name": "stdout",
     "output_type": "stream",
     "text": [
      "good Evening boy\n"
     ]
    }
   ],
   "source": [
    "a=\"good morning\"\n",
    "b=\"good Evening\"\n",
    "c=\"he is a intelligent boy\"\n",
    "print(a[:4] +\" \"+ b[5:] +\" \"+ c[20:] )"
   ]
  },
  {
   "cell_type": "code",
   "execution_count": 48,
   "id": "a59f96b0",
   "metadata": {},
   "outputs": [
    {
     "data": {
      "text/plain": [
       "'$$$$$'"
      ]
     },
     "execution_count": 48,
     "metadata": {},
     "output_type": "execute_result"
    }
   ],
   "source": [
    "#we can use the multiplication symbol to create repetition!\n",
    "txt= \"$\"\n",
    "txt * 5"
   ]
  },
  {
   "cell_type": "code",
   "execution_count": 50,
   "id": "0356b345",
   "metadata": {},
   "outputs": [],
   "source": [
    "#to acess the built in methods of stirng we have to use \".\" operator and hit tab\n",
    "x=\"good morning\""
   ]
  },
  {
   "cell_type": "code",
   "execution_count": 57,
   "id": "46c19c87",
   "metadata": {},
   "outputs": [
    {
     "name": "stdout",
     "output_type": "stream",
     "text": [
      "Hello world\n"
     ]
    }
   ],
   "source": [
    "# capitalize()\n",
    "text = \"hello world\"\n",
    "capitalized_text = text.capitalize()\n",
    "print(capitalized_text)"
   ]
  },
  {
   "cell_type": "code",
   "execution_count": 58,
   "id": "793e741e",
   "metadata": {},
   "outputs": [
    {
     "name": "stdout",
     "output_type": "stream",
     "text": [
      "hello world\n"
     ]
    }
   ],
   "source": [
    "# casefold()\n",
    "text = \"HELLO World\"\n",
    "casefolded_text = text.casefold()\n",
    "print(casefolded_text)"
   ]
  },
  {
   "cell_type": "code",
   "execution_count": 60,
   "id": "9235fb7b",
   "metadata": {},
   "outputs": [
    {
     "name": "stdout",
     "output_type": "stream",
     "text": [
      "2\n"
     ]
    }
   ],
   "source": [
    "# count(substring)\n",
    "text = \"Python programming is fun and Python is powerful\"\n",
    "count_python = text.count(\"Python\")\n",
    "print(count_python)"
   ]
  },
  {
   "cell_type": "code",
   "execution_count": 61,
   "id": "8585250c",
   "metadata": {},
   "outputs": [
    {
     "name": "stdout",
     "output_type": "stream",
     "text": [
      "0\n"
     ]
    }
   ],
   "source": [
    "# find(substring)\n",
    "text = \"Python is easy and Python is powerful\"\n",
    "index_python = text.find(\"Python\")\n",
    "print(index_python)"
   ]
  },
  {
   "cell_type": "code",
   "execution_count": 62,
   "id": "4a4c15db",
   "metadata": {},
   "outputs": [
    {
     "name": "stdout",
     "output_type": "stream",
     "text": [
      "True\n"
     ]
    }
   ],
   "source": [
    "# isalnum()\n",
    "alphanumeric = \"Python3\"\n",
    "is_alnum = alphanumeric.isalnum()\n",
    "print(is_alnum)"
   ]
  },
  {
   "cell_type": "code",
   "execution_count": 65,
   "id": "5bb46eda",
   "metadata": {},
   "outputs": [
    {
     "name": "stdout",
     "output_type": "stream",
     "text": [
      "True\n"
     ]
    }
   ],
   "source": [
    "# isdecimal() Returns True if all characters in the string are decimals\n",
    "decimal_text = \"1235\"\n",
    "is_decimal = decimal_text.isdecimal()\n",
    "print(is_decimal)"
   ]
  },
  {
   "cell_type": "code",
   "execution_count": 66,
   "id": "f3c68acf",
   "metadata": {},
   "outputs": [
    {
     "name": "stdout",
     "output_type": "stream",
     "text": [
      "True\n"
     ]
    }
   ],
   "source": [
    "# isdigit()\n",
    "digit_text = \"12345\"\n",
    "is_digit = digit_text.isdigit()\n",
    "print(is_digit)"
   ]
  },
  {
   "cell_type": "code",
   "execution_count": 67,
   "id": "833f816e",
   "metadata": {},
   "outputs": [
    {
     "name": "stdout",
     "output_type": "stream",
     "text": [
      "hello world\n"
     ]
    }
   ],
   "source": [
    "# lower()\n",
    "text = \"Hello World\"\n",
    "lowercased_text = text.lower()\n",
    "print(lowercased_text)"
   ]
  },
  {
   "cell_type": "code",
   "execution_count": 68,
   "id": "ef394399",
   "metadata": {},
   "outputs": [
    {
     "name": "stdout",
     "output_type": "stream",
     "text": [
      "HELLO WORLD\n"
     ]
    }
   ],
   "source": [
    "# upper()\n",
    "text = \"hello world\"\n",
    "lowercased_text = text.upper()\n",
    "print(lowercased_text)"
   ]
  },
  {
   "cell_type": "code",
   "execution_count": 71,
   "id": "37304c34",
   "metadata": {},
   "outputs": [
    {
     "name": "stdout",
     "output_type": "stream",
     "text": [
      "['P', 'thon is fun and eas', '']\n"
     ]
    }
   ],
   "source": [
    "# split([separator[, maxsplit]])\n",
    "text = \"Python is fun and easy\"\n",
    "split_words = text.split('y')\n",
    "print(split_words)"
   ]
  },
  {
   "cell_type": "code",
   "execution_count": 72,
   "id": "11e3e05c",
   "metadata": {},
   "outputs": [
    {
     "name": "stdout",
     "output_type": "stream",
     "text": [
      "['Python', 'is', 'fun', 'and', 'easy']\n"
     ]
    }
   ],
   "source": [
    "# split([separator[, maxsplit]])\n",
    "text = \"Python is fun and easy\"\n",
    "split_words = text.split()\n",
    "print(split_words)"
   ]
  },
  {
   "cell_type": "code",
   "execution_count": 73,
   "id": "fa6b1c0c",
   "metadata": {},
   "outputs": [
    {
     "name": "stdout",
     "output_type": "stream",
     "text": [
      "['Python i', ' fun and ea', 'y']\n"
     ]
    }
   ],
   "source": [
    "# split([separator[, maxsplit]])\n",
    "text = \"Python is fun and easy\"\n",
    "split_words = text.split('s')\n",
    "print(split_words)"
   ]
  },
  {
   "cell_type": "markdown",
   "id": "7147cab5",
   "metadata": {},
   "source": [
    "# Python - Format - Strings"
   ]
  },
  {
   "cell_type": "code",
   "execution_count": 74,
   "id": "723767ac",
   "metadata": {},
   "outputs": [
    {
     "name": "stdout",
     "output_type": "stream",
     "text": [
      "My name is John, and I am 36\n"
     ]
    }
   ],
   "source": [
    "\"\"\"we can combine strings and numbers by using the format() method!\n",
    "\n",
    "The format() method takes the passed arguments, formats them, and places them in the string where the placeholders {} are:\n",
    "\n",
    "Use the format() method to insert numbers into strings:\"\"\"\n",
    "\n",
    "age = 36\n",
    "txt = \"My name is John, and I am {}\"\n",
    "print(txt.format(age))"
   ]
  },
  {
   "cell_type": "code",
   "execution_count": 76,
   "id": "bc71b507",
   "metadata": {},
   "outputs": [
    {
     "name": "stdout",
     "output_type": "stream",
     "text": [
      "I want 3 pieces of item 567 for 49.95 rupees.\n"
     ]
    }
   ],
   "source": [
    "quantity = 3\n",
    "itemno = 567\n",
    "price = 49.95\n",
    "myorder = \"I want {} pieces of item {} for {} rupees.\"\n",
    "print(myorder.format(quantity, itemno, price))"
   ]
  },
  {
   "cell_type": "code",
   "execution_count": 77,
   "id": "779c5c3c",
   "metadata": {},
   "outputs": [
    {
     "ename": "TypeError",
     "evalue": "can only concatenate str (not \"int\") to str",
     "output_type": "error",
     "traceback": [
      "\u001b[1;31m---------------------------------------------------------------------------\u001b[0m",
      "\u001b[1;31mTypeError\u001b[0m                                 Traceback (most recent call last)",
      "\u001b[1;32m~\\AppData\\Local\\Temp/ipykernel_9128/903602428.py\u001b[0m in \u001b[0;36m<module>\u001b[1;34m\u001b[0m\n\u001b[0;32m      2\u001b[0m \u001b[0mitemno\u001b[0m \u001b[1;33m=\u001b[0m \u001b[1;36m567\u001b[0m\u001b[1;33m\u001b[0m\u001b[1;33m\u001b[0m\u001b[0m\n\u001b[0;32m      3\u001b[0m \u001b[0mprice\u001b[0m \u001b[1;33m=\u001b[0m \u001b[1;36m49.95\u001b[0m\u001b[1;33m\u001b[0m\u001b[1;33m\u001b[0m\u001b[0m\n\u001b[1;32m----> 4\u001b[1;33m \u001b[0mmyorder\u001b[0m \u001b[1;33m=\u001b[0m \u001b[1;34m\"I want\"\u001b[0m\u001b[1;33m+\u001b[0m \u001b[0mquantity\u001b[0m \u001b[1;33m+\u001b[0m\u001b[1;34m\"pieces of item\"\u001b[0m\u001b[1;33m+\u001b[0m \u001b[0mitemno\u001b[0m\u001b[1;33m+\u001b[0m\u001b[1;34m\" for\"\u001b[0m\u001b[1;33m+\u001b[0m \u001b[0mprice\u001b[0m \u001b[1;33m+\u001b[0m\u001b[1;34m\" dollars.\"\u001b[0m\u001b[1;33m\u001b[0m\u001b[1;33m\u001b[0m\u001b[0m\n\u001b[0m\u001b[0;32m      5\u001b[0m \u001b[0mprint\u001b[0m\u001b[1;33m(\u001b[0m\u001b[0mmyorder\u001b[0m\u001b[1;33m.\u001b[0m\u001b[0mformat\u001b[0m\u001b[1;33m(\u001b[0m\u001b[0mquantity\u001b[0m\u001b[1;33m,\u001b[0m \u001b[0mitemno\u001b[0m\u001b[1;33m,\u001b[0m \u001b[0mprice\u001b[0m\u001b[1;33m)\u001b[0m\u001b[1;33m)\u001b[0m\u001b[1;33m\u001b[0m\u001b[1;33m\u001b[0m\u001b[0m\n",
      "\u001b[1;31mTypeError\u001b[0m: can only concatenate str (not \"int\") to str"
     ]
    }
   ],
   "source": [
    "quantity = 3\n",
    "itemno = 567\n",
    "price = 49.95\n",
    "myorder = \"I want\"+ quantity +\"pieces of item\"+ itemno+\" for\"+ price +\" dollars.\"\n",
    "print(myorder.format(quantity, itemno, price))"
   ]
  },
  {
   "cell_type": "code",
   "execution_count": 78,
   "id": "7c6a8005",
   "metadata": {},
   "outputs": [
    {
     "name": "stdout",
     "output_type": "stream",
     "text": [
      "I want to pay 49.95 dollars for 3 pieces of item 567.\n"
     ]
    }
   ],
   "source": [
    "quantity = 3\n",
    "itemno = 567\n",
    "price = 49.95\n",
    "myorder = \"I want to pay {2} dollars for {0} pieces of item {1}.\"\n",
    "print(myorder.format(quantity, itemno, price))"
   ]
  },
  {
   "cell_type": "code",
   "execution_count": null,
   "id": "c1cf21a6",
   "metadata": {},
   "outputs": [],
   "source": []
  }
 ],
 "metadata": {
  "kernelspec": {
   "display_name": "Python 3 (ipykernel)",
   "language": "python",
   "name": "python3"
  },
  "language_info": {
   "codemirror_mode": {
    "name": "ipython",
    "version": 3
   },
   "file_extension": ".py",
   "mimetype": "text/x-python",
   "name": "python",
   "nbconvert_exporter": "python",
   "pygments_lexer": "ipython3",
   "version": "3.9.7"
  }
 },
 "nbformat": 4,
 "nbformat_minor": 5
}
